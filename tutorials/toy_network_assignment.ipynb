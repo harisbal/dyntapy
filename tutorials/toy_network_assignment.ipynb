{
 "cells": [
  {
   "cell_type": "code",
   "execution_count": null,
   "metadata": {
    "collapsed": true
   },
   "outputs": [],
   "source": [
    "\n",
    "from numba import config\n",
    "config.DISABLE_JIT=1\n",
    "from dyntapy.networks.get_networks import get_toy_network\n",
    "from dyntapy.demand import add_centroids_to_graph\n",
    "import numpy as np\n",
    "from dyntapy.visualization import show_network, show_dynamic_network, show_demand\n",
    "from dyntapy.network_data import relabel_graph\n",
    "from dyntapy.demand import od_graph_from_matrix, DynamicDemand\n",
    "from dyntapy.dta.core.time import SimulationTime\n",
    "from dyntapy.dta.assignment import Assignment\n",
    "\n",
    "toy_network = 'cascetta'\n",
    "g = get_toy_network('cascetta')\n",
    "centroid_x = np.array([1, 7, 4])\n",
    "centroid_y = np.array([1, 1, 3.5])\n",
    "g = add_centroids_to_graph(g, centroid_x, centroid_y, euclidean=True)  # also adds connectors automatically\n",
    "g = relabel_graph(g)  # adding link and node ids, connectors and centroids\n",
    "# are the first elements\n",
    "show_network(g, toy_network=True, title=toy_network)\n",
    "od_matrix = np.zeros(9).reshape((3, 3))\n",
    "od_matrix[0, 1] = 500\n",
    "od_matrix[2, 1] = 500\n",
    "od_graph = od_graph_from_matrix(od_matrix, centroid_x, centroid_y)\n",
    "show_demand(od_graph, toy_network=True, notebook=True)\n",
    "dynamic_demand = DynamicDemand([od_graph], insertion_times=[0])\n",
    "# convert everything to internal representations and parse\n",
    "simulation_time = SimulationTime(np.float32(0.0), np.float32(2.0), step_size=0.25)\n",
    "assignment = Assignment(g, dynamic_demand, simulation_time)\n",
    "flows, costs = assignment.run()\n",
    "show_dynamic_network(g, simulation_time, toy_network=True, link_kwargs={'flows': flows, 'costs': costs},\n",
    "                     title='assignment on ' + toy_network, notebook=True)"
   ]
  }
 ],
 "metadata": {
  "kernelspec": {
   "display_name": "Python 3",
   "language": "python",
   "name": "python3"
  },
  "language_info": {
   "codemirror_mode": {
    "name": "ipython",
    "version": 2
   },
   "file_extension": ".py",
   "mimetype": "text/x-python",
   "name": "python",
   "nbconvert_exporter": "python",
   "pygments_lexer": "ipython2",
   "version": "2.7.6"
  }
 },
 "nbformat": 4,
 "nbformat_minor": 0
}