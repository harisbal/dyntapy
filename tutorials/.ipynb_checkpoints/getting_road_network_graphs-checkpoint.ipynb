{
 "cells": [
  {
   "cell_type": "code",
   "execution_count": null,
   "metadata": {
    "collapsed": true,
    "pycharm": {
     "is_executing": true
    }
   },
   "outputs": [],
   "source": [
    "from dtapy.network_data import get_from_ox_and_save, relabel_graph, save_pickle\n",
    "from dtapy.demand import add_centroids_to_graph, get_centroid_grid_coords\n",
    "from dtapy.settings import default_city as city\n",
    "from dtapy.visualization import show_network\n",
    "\n",
    "# first we download a road network graph using OSMNX, and clean up some of the data. We rename some attributes\n",
    "# from OpenStreetMap and provide a very rough estimate of capacities\n",
    "\n",
    "(g, deleted) = get_from_ox_and_save(city, reload=False)\n",
    "show_\n",
    "\n"
   ]
  },
  {
   "cell_type": "code",
   "execution_count": null,
   "metadata": {},
   "outputs": [],
   "source": [
    "x, y = get_centroid_grid_coords(city)\n",
    "\n",
    "\n",
    "# need to define the number of centroids and connectors first as they are the first 'nodes' and 'links' of our network\n",
    "# that needs to be accounted for in the labeling\n",
    "k = 2  # connectors per centroid to be generated\n",
    "tot_centroids = x.size\n",
    "tot_connectors = tot_centroids * k * 2\n",
    "g = relabel_graph(g, tot_centroids, tot_connectors)\n",
    "g = add_centroids_to_graph(g, x, y, k=k)"
   ]
  },
  {
   "cell_type": "code",
   "execution_count": null,
   "metadata": {},
   "outputs": [],
   "source": [
    "save_pickle(g, city + '_grid_centroids')"
   ]
  },
  {
   "cell_type": "code",
   "execution_count": null,
   "metadata": {
    "pycharm": {
     "is_executing": true,
     "name": "#%%\n"
    }
   },
   "outputs": [],
   "source": [
    "\n",
    "\n",
    "(g, deleted) = get_from_ox_and_save(city, reload=False)\n",
    "x, y = get_centroid_grid_coords(city)"
   ]
  }
 ],
 "metadata": {
  "kernelspec": {
   "display_name": "Python 3",
   "language": "python",
   "name": "python3"
  },
  "language_info": {
   "codemirror_mode": {
    "name": "ipython",
    "version": 3
   },
   "file_extension": ".py",
   "mimetype": "text/x-python",
   "name": "python",
   "nbconvert_exporter": "python",
   "pygments_lexer": "ipython3",
   "version": "3.9.2"
  }
 },
 "nbformat": 4,
 "nbformat_minor": 1
}
