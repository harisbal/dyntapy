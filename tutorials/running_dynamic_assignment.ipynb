{
 "cells": [
  {
   "cell_type": "code",
   "execution_count": null,
   "metadata": {},
   "outputs": [],
   "source": [
    "\n",
    "from dyntapy.demand import parse_demand, generate_od_xy, DynamicDemand\n",
    "from dyntapy.network_data import load_pickle\n",
    "from dyntapy.dta.assignment import Assignment\n",
    "from dyntapy.settings import dynamic_parameters\n",
    "from dyntapy.dta.core.time import SimulationTime\n",
    "import numpy as np\n",
    "from dyntapy.settings import default_dynamic_city as city\n",
    "from dyntapy.visualization import show_demand, show_dynamic_network\n",
    "\n"
   ]
  },
  {
   "cell_type": "code",
   "execution_count": null,
   "metadata": {
    "pycharm": {
     "name": "#%%\n"
    }
   },
   "outputs": [
    {
     "ename": "AttributeError",
     "evalue": "'_NetworkLoading' object has no attribute 'step_size'",
     "output_type": "error",
     "traceback": [
      "\u001B[1;31m---------------------------------------------------------------------------\u001B[0m",
      "\u001B[1;31mAttributeError\u001B[0m                            Traceback (most recent call last)",
      "\u001B[1;32m<ipython-input-2-a57366e09ff1>\u001B[0m in \u001B[0;36m<module>\u001B[1;34m\u001B[0m\n\u001B[0;32m      1\u001B[0m \u001B[1;31m# specifying the time discretization in hours, here 0.25\u001B[0m\u001B[1;33m\u001B[0m\u001B[1;33m\u001B[0m\u001B[1;33m\u001B[0m\u001B[0m\n\u001B[1;32m----> 2\u001B[1;33m \u001B[0mstep_size\u001B[0m \u001B[1;33m=\u001B[0m \u001B[0mdynamic_parameters\u001B[0m\u001B[1;33m.\u001B[0m\u001B[0mnetwork_loading\u001B[0m\u001B[1;33m.\u001B[0m\u001B[0mstep_size\u001B[0m\u001B[1;33m\u001B[0m\u001B[1;33m\u001B[0m\u001B[0m\n\u001B[0m\u001B[0;32m      3\u001B[0m \u001B[1;31m# loading from data folder, assumes centroids were added and labelling is correct\u001B[0m\u001B[1;33m\u001B[0m\u001B[1;33m\u001B[0m\u001B[1;33m\u001B[0m\u001B[0m\n\u001B[0;32m      4\u001B[0m \u001B[0mg\u001B[0m \u001B[1;33m=\u001B[0m \u001B[0mload_pickle\u001B[0m\u001B[1;33m(\u001B[0m\u001B[0mcity\u001B[0m \u001B[1;33m+\u001B[0m \u001B[1;34m'_grid_centroids'\u001B[0m\u001B[1;33m)\u001B[0m\u001B[1;33m\u001B[0m\u001B[1;33m\u001B[0m\u001B[0m\n\u001B[0;32m      5\u001B[0m \u001B[1;33m\u001B[0m\u001B[0m\n",
      "\u001B[1;31mAttributeError\u001B[0m: '_NetworkLoading' object has no attribute 'step_size'"
     ]
    }
   ],
   "source": [
    "# specifying the time discretization in hours, here 0.25\n",
    "step_size = dynamic_parameters.network_loading.step_size\n",
    "# loading from data folder, assumes centroids were added and labelling is correct\n",
    "g = load_pickle(city + '_grid_centroids')\n",
    "\n",
    "# generates random demand as a set of lines with a flow variables\n",
    "geo_jsons = [generate_od_xy(1, city, seed=seed, max_flow=500) for seed in [1, 2]]\n",
    "times = np.arange(2) # loading times for the different demand patterns\n",
    "# we now map from specific locations to the existing centroids in the network to generate\n",
    "# dynamic origin-destination tables.\n",
    "trip_graphs = [parse_demand(geo_json, g, time) for geo_json, time in zip(geo_jsons, times)]\n",
    "# these can be visualized on a Map\n",
    "for trip_graph, time in zip(trip_graphs, times):\n",
    "    show_demand(trip_graph, title=f'demand at {time}', notebook=True)\n",
    "# Alternatively, demand can also be added by specifying locations and matrices, see demand module.\n"
   ]
  },
  {
   "cell_type": "code",
   "execution_count": null,
   "metadata": {
    "pycharm": {
     "name": "#%%\n"
    }
   },
   "outputs": [],
   "source": [
    "# convert everything to internal representations and parse\n",
    "dynamic_demand = DynamicDemand(trip_graphs, times)\n",
    "# generating assignment object\n",
    "assignment = Assignment(g, dynamic_demand, SimulationTime(np.float32(0.0), np.float32(2.0), step_size=step_size))\n",
    "flows, costs = assignment.run(method='i_ltm_aon')\n",
    "show_dynamic_network(g, SimulationTime(np.float32(0.0), np.float32(2.0), step_size=step_size),\n",
    "                link_kwargs={'flows': flows, 'costs': costs}, notebook=True)"
   ]
  },
  {
   "cell_type": "code",
   "execution_count": null,
   "outputs": [],
   "source": [],
   "metadata": {
    "collapsed": false,
    "pycharm": {
     "name": "#%%\n"
    }
   }
  }
 ],
 "metadata": {
  "kernelspec": {
   "display_name": "stapy38",
   "language": "python",
   "name": "stapy38"
  },
  "language_info": {
   "codemirror_mode": {
    "name": "ipython",
    "version": 3
   },
   "file_extension": ".py",
   "mimetype": "text/x-python",
   "name": "python",
   "nbconvert_exporter": "python",
   "pygments_lexer": "ipython3",
   "version": "3.8.5"
  }
 },
 "nbformat": 4,
 "nbformat_minor": 1
}