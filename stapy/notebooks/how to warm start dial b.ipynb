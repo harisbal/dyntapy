{
 "cells": [
  {
   "cell_type": "code",
   "execution_count": null,
   "metadata": {},
   "outputs": [],
   "source": [
    "# gotta change the workdir to one dirlayer higher so that we can import from stapy\n",
    "%cd Duet"
   ]
  },
  {
   "cell_type": "code",
   "execution_count": 6,
   "metadata": {},
   "outputs": [
    {
     "name": "stdout",
     "output_type": "stream",
     "text": [
      "C:\\Workdir\\Programs\\research\n"
     ]
    }
   ],
   "source": [
    "# this file demonstrates how warm-started dial-b can be used.\n",
    "# let's first import the necessary dependencies from inside stapy\n",
    "\n",
    "from stapy.network_data import get_from_ox_and_save\n",
    "from stapy.demand import generate_od_fixed\n",
    "from stapy.assignment import StaticAssignment\n",
    "from stapy.algorithms.dial_algorithm_B.bush_manager import dial_b\n",
    "from stapy.visualization import plot_network, show_desire_lines, show_convergence\n",
    "\n",
    "\n",
    "\n"
   ]
  },
  {
   "cell_type": "code",
   "execution_count": 7,
   "metadata": {},
   "outputs": [
    {
     "ename": "FileNotFoundError",
     "evalue": "[Errno 2] No such file or directory: 'data\\\\gent.pickle_pure_ox'",
     "output_type": "error",
     "traceback": [
      "\u001B[1;31m------------------------------------------------------------------------\u001B[0m",
      "\u001B[1;31mFileNotFoundError\u001B[0m                      Traceback (most recent call last)",
      "\u001B[1;32mC:\\Workdir\\Programs\\research\\Digital Urban European Twins\\python-traffictoolbox\\stapy\\network_data.py\u001B[0m in \u001B[0;36mget_from_ox_and_save\u001B[1;34m(name, plot_deleted, reload)\u001B[0m\n\u001B[0;32m     44\u001B[0m         \u001B[1;32mtry\u001B[0m\u001B[1;33m:\u001B[0m\u001B[1;33m\u001B[0m\u001B[1;33m\u001B[0m\u001B[0m\n\u001B[1;32m---> 45\u001B[1;33m             \u001B[0mg\u001B[0m \u001B[1;33m=\u001B[0m \u001B[0mnx\u001B[0m\u001B[1;33m.\u001B[0m\u001B[0mread_gpickle\u001B[0m\u001B[1;33m(\u001B[0m\u001B[0m_\u001B[0m\u001B[1;33m)\u001B[0m\u001B[1;33m\u001B[0m\u001B[1;33m\u001B[0m\u001B[0m\n\u001B[0m\u001B[0;32m     46\u001B[0m         \u001B[1;32mexcept\u001B[0m \u001B[0mFileNotFoundError\u001B[0m\u001B[1;33m:\u001B[0m\u001B[1;33m\u001B[0m\u001B[1;33m\u001B[0m\u001B[0m\n",
      "\u001B[1;32m<decorator-gen-780>\u001B[0m in \u001B[0;36mread_gpickle\u001B[1;34m(path)\u001B[0m\n",
      "\u001B[1;32mC:\\Workdir\\Programs\\Anaconda2\\envs\\stapy38\\lib\\site-packages\\networkx\\utils\\decorators.py\u001B[0m in \u001B[0;36m_open_file\u001B[1;34m(func_to_be_decorated, *args, **kwargs)\u001B[0m\n\u001B[0;32m    212\u001B[0m             \u001B[0mext\u001B[0m \u001B[1;33m=\u001B[0m \u001B[0msplitext\u001B[0m\u001B[1;33m(\u001B[0m\u001B[0mpath\u001B[0m\u001B[1;33m)\u001B[0m\u001B[1;33m[\u001B[0m\u001B[1;36m1\u001B[0m\u001B[1;33m]\u001B[0m\u001B[1;33m\u001B[0m\u001B[1;33m\u001B[0m\u001B[0m\n\u001B[1;32m--> 213\u001B[1;33m             \u001B[0mfobj\u001B[0m \u001B[1;33m=\u001B[0m \u001B[0m_dispatch_dict\u001B[0m\u001B[1;33m[\u001B[0m\u001B[0mext\u001B[0m\u001B[1;33m]\u001B[0m\u001B[1;33m(\u001B[0m\u001B[0mpath\u001B[0m\u001B[1;33m,\u001B[0m \u001B[0mmode\u001B[0m\u001B[1;33m=\u001B[0m\u001B[0mmode\u001B[0m\u001B[1;33m)\u001B[0m\u001B[1;33m\u001B[0m\u001B[1;33m\u001B[0m\u001B[0m\n\u001B[0m\u001B[0;32m    214\u001B[0m             \u001B[0mclose_fobj\u001B[0m \u001B[1;33m=\u001B[0m \u001B[1;32mTrue\u001B[0m\u001B[1;33m\u001B[0m\u001B[1;33m\u001B[0m\u001B[0m\n",
      "\u001B[1;31mFileNotFoundError\u001B[0m: [Errno 2] No such file or directory: 'data\\\\gent.pickle_pure_ox'",
      "\nDuring handling of the above exception, another exception occurred:\n",
      "\u001B[1;31mFileNotFoundError\u001B[0m                      Traceback (most recent call last)",
      "\u001B[1;32m<ipython-input-7-667630110663>\u001B[0m in \u001B[0;36m<module>\u001B[1;34m\u001B[0m\n\u001B[0;32m      1\u001B[0m \u001B[1;31m#we load the network data into cache, generate some random demand and run the assignment\u001B[0m\u001B[1;33m\u001B[0m\u001B[1;33m\u001B[0m\u001B[1;33m\u001B[0m\u001B[0m\n\u001B[1;32m----> 2\u001B[1;33m \u001B[1;33m(\u001B[0m\u001B[0mg\u001B[0m\u001B[1;33m,\u001B[0m \u001B[0mdeleted\u001B[0m\u001B[1;33m)\u001B[0m \u001B[1;33m=\u001B[0m \u001B[0mget_from_ox_and_save\u001B[0m\u001B[1;33m(\u001B[0m\u001B[1;34m'Gent'\u001B[0m\u001B[1;33m)\u001B[0m\u001B[1;33m\u001B[0m\u001B[1;33m\u001B[0m\u001B[0m\n\u001B[0m\u001B[0;32m      3\u001B[0m \u001B[0mrand_od\u001B[0m \u001B[1;33m=\u001B[0m \u001B[0mgenerate_od_fixed\u001B[0m\u001B[1;33m(\u001B[0m\u001B[0mg\u001B[0m\u001B[1;33m.\u001B[0m\u001B[0mnumber_of_nodes\u001B[0m\u001B[1;33m(\u001B[0m\u001B[1;33m)\u001B[0m\u001B[1;33m,\u001B[0m \u001B[1;36m10\u001B[0m\u001B[1;33m)\u001B[0m\u001B[1;33m\u001B[0m\u001B[1;33m\u001B[0m\u001B[0m\n\u001B[0;32m      4\u001B[0m \u001B[0mobj\u001B[0m \u001B[1;33m=\u001B[0m \u001B[0mStaticAssignment\u001B[0m\u001B[1;33m(\u001B[0m\u001B[0mg\u001B[0m\u001B[1;33m,\u001B[0m \u001B[0mrand_od\u001B[0m\u001B[1;33m)\u001B[0m \u001B[1;31m#initialization of the assignment object\u001B[0m\u001B[1;33m\u001B[0m\u001B[1;33m\u001B[0m\u001B[0m\n\u001B[0;32m      5\u001B[0m \u001B[0mshow_desire_lines\u001B[0m\u001B[1;33m(\u001B[0m\u001B[0mobj\u001B[0m\u001B[1;33m)\u001B[0m \u001B[1;31m# we visualize the corresponding demand table on a map\u001B[0m\u001B[1;33m\u001B[0m\u001B[1;33m\u001B[0m\u001B[0m\n",
      "\u001B[1;32mC:\\Workdir\\Programs\\research\\Digital Urban European Twins\\python-traffictoolbox\\stapy\\network_data.py\u001B[0m in \u001B[0;36mget_from_ox_and_save\u001B[1;34m(name, plot_deleted, reload)\u001B[0m\n\u001B[0;32m     47\u001B[0m             \u001B[0mlog\u001B[0m\u001B[1;33m(\u001B[0m\u001B[1;34mf'city {name} could not be found in data folder, loading from osm'\u001B[0m\u001B[1;33m,\u001B[0m \u001B[0mlevel\u001B[0m\u001B[1;33m=\u001B[0m\u001B[1;36m50\u001B[0m\u001B[1;33m)\u001B[0m\u001B[1;33m\u001B[0m\u001B[1;33m\u001B[0m\u001B[0m\n\u001B[0;32m     48\u001B[0m             \u001B[0mg\u001B[0m \u001B[1;33m=\u001B[0m \u001B[0mox\u001B[0m\u001B[1;33m.\u001B[0m\u001B[0mgraph_from_place\u001B[0m\u001B[1;33m(\u001B[0m\u001B[0mname\u001B[0m\u001B[1;33m,\u001B[0m \u001B[0mnetwork_type\u001B[0m\u001B[1;33m=\u001B[0m\u001B[1;34m'drive'\u001B[0m\u001B[1;33m)\u001B[0m\u001B[1;33m\u001B[0m\u001B[1;33m\u001B[0m\u001B[0m\n\u001B[1;32m---> 49\u001B[1;33m             \u001B[0mnx\u001B[0m\u001B[1;33m.\u001B[0m\u001B[0mwrite_gpickle\u001B[0m\u001B[1;33m(\u001B[0m\u001B[0mg\u001B[0m\u001B[1;33m,\u001B[0m \u001B[0mfile_path\u001B[0m \u001B[1;33m+\u001B[0m \u001B[1;34m'_pure_ox'\u001B[0m\u001B[1;33m)\u001B[0m\u001B[1;33m\u001B[0m\u001B[1;33m\u001B[0m\u001B[0m\n\u001B[0m\u001B[0;32m     50\u001B[0m     \u001B[1;32melse\u001B[0m\u001B[1;33m:\u001B[0m\u001B[1;33m\u001B[0m\u001B[1;33m\u001B[0m\u001B[0m\n\u001B[0;32m     51\u001B[0m         \u001B[0mlog\u001B[0m\u001B[1;33m(\u001B[0m\u001B[1;34m'Starting to load from OSM'\u001B[0m\u001B[1;33m)\u001B[0m\u001B[1;33m\u001B[0m\u001B[1;33m\u001B[0m\u001B[0m\n",
      "\u001B[1;32m<decorator-gen-778>\u001B[0m in \u001B[0;36mwrite_gpickle\u001B[1;34m(G, path, protocol)\u001B[0m\n",
      "\u001B[1;32mC:\\Workdir\\Programs\\Anaconda2\\envs\\stapy38\\lib\\site-packages\\networkx\\utils\\decorators.py\u001B[0m in \u001B[0;36m_open_file\u001B[1;34m(func_to_be_decorated, *args, **kwargs)\u001B[0m\n\u001B[0;32m    211\u001B[0m         \u001B[1;32mif\u001B[0m \u001B[0misinstance\u001B[0m\u001B[1;33m(\u001B[0m\u001B[0mpath\u001B[0m\u001B[1;33m,\u001B[0m \u001B[0mstr\u001B[0m\u001B[1;33m)\u001B[0m\u001B[1;33m:\u001B[0m\u001B[1;33m\u001B[0m\u001B[1;33m\u001B[0m\u001B[0m\n\u001B[0;32m    212\u001B[0m             \u001B[0mext\u001B[0m \u001B[1;33m=\u001B[0m \u001B[0msplitext\u001B[0m\u001B[1;33m(\u001B[0m\u001B[0mpath\u001B[0m\u001B[1;33m)\u001B[0m\u001B[1;33m[\u001B[0m\u001B[1;36m1\u001B[0m\u001B[1;33m]\u001B[0m\u001B[1;33m\u001B[0m\u001B[1;33m\u001B[0m\u001B[0m\n\u001B[1;32m--> 213\u001B[1;33m             \u001B[0mfobj\u001B[0m \u001B[1;33m=\u001B[0m \u001B[0m_dispatch_dict\u001B[0m\u001B[1;33m[\u001B[0m\u001B[0mext\u001B[0m\u001B[1;33m]\u001B[0m\u001B[1;33m(\u001B[0m\u001B[0mpath\u001B[0m\u001B[1;33m,\u001B[0m \u001B[0mmode\u001B[0m\u001B[1;33m=\u001B[0m\u001B[0mmode\u001B[0m\u001B[1;33m)\u001B[0m\u001B[1;33m\u001B[0m\u001B[1;33m\u001B[0m\u001B[0m\n\u001B[0m\u001B[0;32m    214\u001B[0m             \u001B[0mclose_fobj\u001B[0m \u001B[1;33m=\u001B[0m \u001B[1;32mTrue\u001B[0m\u001B[1;33m\u001B[0m\u001B[1;33m\u001B[0m\u001B[0m\n\u001B[0;32m    215\u001B[0m         \u001B[1;32melif\u001B[0m \u001B[0mhasattr\u001B[0m\u001B[1;33m(\u001B[0m\u001B[0mpath\u001B[0m\u001B[1;33m,\u001B[0m \u001B[1;34m\"read\"\u001B[0m\u001B[1;33m)\u001B[0m\u001B[1;33m:\u001B[0m\u001B[1;33m\u001B[0m\u001B[1;33m\u001B[0m\u001B[0m\n",
      "\u001B[1;31mFileNotFoundError\u001B[0m: [Errno 2] No such file or directory: 'data\\\\gent.pickle_pure_ox'"
     ]
    }
   ],
   "source": [
    "#we load the network data into cache, generate some random demand and run the assignment\n",
    "(g, deleted) = get_from_ox_and_save('Gent')\n",
    "rand_od = generate_od_fixed(g.number_of_nodes(), 10)\n",
    "obj = StaticAssignment(g, rand_od) #initialization of the assignment object\n",
    "show_desire_lines(obj) # we visualize the corresponding demand table on a map\n"
   ]
  },
  {
   "cell_type": "code",
   "execution_count": null,
   "metadata": {
    "pycharm": {
     "name": "#%%\n"
    }
   },
   "outputs": [],
   "source": [
    "#we can now run the assignment and visualize the result\n",
    "obj.link_travel_times, obj.link_flows, state = dial_b(obj)\n",
    "plot_network(g, show_internal_ids=True)\n",
    "# note that state contains all the information that dial_b needs for warm starting again\n",
    "\n",
    "\n"
   ]
  },
  {
   "cell_type": "code",
   "execution_count": null,
   "metadata": {},
   "outputs": [],
   "source": [
    "#we can now run the assignment and visualize the result\n",
    "obj.link_travel_times, obj.link_flows, state = dial_b(obj)\n",
    "plot_network(g, show_internal_ids=True)\n",
    "# note that state contains all the information that dial_b needs for warm starting again\n",
    "\n",
    "\n"
   ]
  }
 ],
 "metadata": {
  "kernelspec": {
   "display_name": "stapy38",
   "language": "python",
   "name": "stapy38"
  },
  "language_info": {
   "codemirror_mode": {
    "name": "ipython",
    "version": 3
   },
   "file_extension": ".py",
   "mimetype": "text/x-python",
   "name": "python",
   "nbconvert_exporter": "python",
   "pygments_lexer": "ipython3",
   "version": "3.8.5"
  },
  "pycharm": {
   "stem_cell": {
    "cell_type": "raw",
    "source": [
     "\n",
     "\n",
     "\n"
    ],
    "metadata": {
     "collapsed": false
    }
   }
  }
 },
 "nbformat": 4,
 "nbformat_minor": 1
}