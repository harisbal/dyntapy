{
 "cells": [
  {
   "cell_type": "code",
   "execution_count": null,
   "metadata": {},
   "outputs": [],
   "source": []
  }
 ],
 "metadata": {
  "kernelspec": {
   "display_name": "PyCharm (dtapy)",
   "language": "python",
   "name": "pycharm-901fabea"
  },
  "language_info": {
   "codemirror_mode": {
    "name": "ipython",
    "version": 3
   },
   "file_extension": ".py",
   "mimetype": "text/x-python",
   "name": "python",
   "nbconvert_exporter": "python",
   "pygments_lexer": "ipython3",
   "version": "3.9.2"
  },
  "pycharm": {
   "stem_cell": {
    "cell_type": "raw",
    "metadata": {
     "collapsed": false
    },
    "source": [
     "\n",
     "from visualization import show_assignment\n",
     "from settings import default_city as city\n",
     "from network_data import load_pickle\n",
     "import networkx as nx\n",
     "import numpy as np\n",
     "from core.time import SimulationTime\n",
     "\n",
     "g: nx.MultiDiGraph = load_pickle(city + '_grid_centroids')\n",
     "g.number_of_edges()\n",
     "time = SimulationTime(0,2,0.25)\n",
     "flows = np.random.rand((time.tot_time_steps,g.number_of_edges()))*1200\n",
     "costs = np.random.rand((time.tot_time_steps, g.number_of_edges()))*300\n",
     "\n",
     "show_assignment(g, flows, costs)\n",
     "\n",
     "\n"
    ]
   }
  }
 },
 "nbformat": 4,
 "nbformat_minor": 1
}
